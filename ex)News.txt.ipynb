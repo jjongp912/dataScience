{
 "cells": [
  {
   "cell_type": "code",
   "execution_count": 43,
   "id": "baa198b4",
   "metadata": {},
   "outputs": [
    {
     "name": "stdout",
     "output_type": "stream",
     "text": [
      "22\n"
     ]
    }
   ],
   "source": [
    "with open(\"C:\\\\Users\\\\JJong\\\\Downloads\\\\News.txt\", 'r', encoding='utf8') as f:    \n",
    "    lines = f.read()\n",
    "    splitdata = lines.split()\n",
    "    sum=0\n",
    "\n",
    "    for i in splitdata:\n",
    "        text = i.lower().count('the')\n",
    "        sum += text\n",
    "print(sum)\n"
   ]
  },
  {
   "cell_type": "code",
   "execution_count": null,
   "id": "022e06f9",
   "metadata": {},
   "outputs": [],
   "source": []
  }
 ],
 "metadata": {
  "kernelspec": {
   "display_name": "Python 3",
   "language": "python",
   "name": "python3"
  },
  "language_info": {
   "codemirror_mode": {
    "name": "ipython",
    "version": 3
   },
   "file_extension": ".py",
   "mimetype": "text/x-python",
   "name": "python",
   "nbconvert_exporter": "python",
   "pygments_lexer": "ipython3",
   "version": "3.6.13"
  }
 },
 "nbformat": 4,
 "nbformat_minor": 5
}
