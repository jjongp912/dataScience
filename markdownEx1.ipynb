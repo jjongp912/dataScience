{
 "cells": [
  {
   "cell_type": "markdown",
   "id": "a3e4c70d",
   "metadata": {},
   "source": [
    "# $\\alpha=\\beta$"
   ]
  },
  {
   "cell_type": "markdown",
   "id": "c1c764a3",
   "metadata": {},
   "source": [
    "$\\alpha$ : alpha 알파"
   ]
  },
  {
   "cell_type": "markdown",
   "id": "ba686a84",
   "metadata": {},
   "source": [
    "$\\beta$ : beta 베타"
   ]
  },
  {
   "cell_type": "markdown",
   "id": "12f7cc5f",
   "metadata": {},
   "source": [
    "$\\gamma$ : gamma 감마"
   ]
  },
  {
   "cell_type": "markdown",
   "id": "060aeb17",
   "metadata": {},
   "source": [
    "$\\delta$ : delta 델타"
   ]
  },
  {
   "cell_type": "markdown",
   "id": "5684f206",
   "metadata": {},
   "source": [
    "$\\epsilon$ : epsilon 입실론"
   ]
  },
  {
   "cell_type": "markdown",
   "id": "3504305c",
   "metadata": {},
   "source": [
    "$\\zeta$ : zeta 제타"
   ]
  },
  {
   "cell_type": "markdown",
   "id": "c3722aa2",
   "metadata": {},
   "source": [
    "$\\eta$ : eta 에타"
   ]
  },
  {
   "cell_type": "markdown",
   "id": "d41d826b",
   "metadata": {},
   "source": [
    "$\\theta$ : theta 쎄타"
   ]
  },
  {
   "cell_type": "markdown",
   "id": "34b2114d",
   "metadata": {},
   "source": [
    "$\\kappa$ : kappa 카파"
   ]
  },
  {
   "cell_type": "markdown",
   "id": "50fb005b",
   "metadata": {},
   "source": [
    "$\\lambda$ : lambda 람다"
   ]
  },
  {
   "cell_type": "markdown",
   "id": "c2097790",
   "metadata": {},
   "source": [
    "$\\mu$ : mu 뮤"
   ]
  },
  {
   "cell_type": "markdown",
   "id": "4c10a921",
   "metadata": {},
   "source": [
    "$\\nu$ : nu 누"
   ]
  },
  {
   "cell_type": "markdown",
   "id": "17f449e2",
   "metadata": {},
   "source": [
    "$\\xi$ : xi 크싸이"
   ]
  },
  {
   "cell_type": "markdown",
   "id": "74a4a4c0",
   "metadata": {},
   "source": [
    "$\\pi$ : pi 파이"
   ]
  },
  {
   "cell_type": "markdown",
   "id": "4c59a158",
   "metadata": {},
   "source": [
    "$\\rho$ : rho 로"
   ]
  },
  {
   "cell_type": "markdown",
   "id": "f91cfa28",
   "metadata": {},
   "source": [
    "$\\sigma$ : sigma 시그마"
   ]
  },
  {
   "cell_type": "markdown",
   "id": "e611aa34",
   "metadata": {},
   "source": [
    "$\\tau$ : tau 타우"
   ]
  },
  {
   "cell_type": "markdown",
   "id": "642b0385",
   "metadata": {},
   "source": [
    "$\\phi$ : phi 파이/피"
   ]
  },
  {
   "cell_type": "markdown",
   "id": "4754abba",
   "metadata": {},
   "source": [
    "$\\chi$ : chi 카이"
   ]
  },
  {
   "cell_type": "markdown",
   "id": "c7b1cd7b",
   "metadata": {},
   "source": [
    "$\\psi$ : psi 프사이"
   ]
  },
  {
   "cell_type": "markdown",
   "id": "201fce65",
   "metadata": {},
   "source": [
    "$\\omega$ : omega 오메가"
   ]
  },
  {
   "cell_type": "markdown",
   "id": "30d2bcad",
   "metadata": {},
   "source": [
    "># 이것은 인용부호"
   ]
  },
  {
   "cell_type": "markdown",
   "id": "6f2502de",
   "metadata": {},
   "source": [
    ">># 인용부호"
   ]
  },
  {
   "cell_type": "markdown",
   "id": "c9cdd5be",
   "metadata": {},
   "source": [
    "* 제목\n",
    "-+ 제목"
   ]
  },
  {
   "cell_type": "markdown",
   "id": "2e6f01c3",
   "metadata": {},
   "source": [
    "```python\n",
    "import os\n",
    "import numpy\n",
    "```"
   ]
  },
  {
   "cell_type": "markdown",
   "id": "815b1987",
   "metadata": {},
   "source": [
    "1<br>\n",
    "2<br>\n",
    "3<br>\n",
    "4<br>\n",
    "5<br>\n"
   ]
  },
  {
   "cell_type": "code",
   "execution_count": 4,
   "id": "adc63cae",
   "metadata": {
    "scrolled": false
   },
   "outputs": [
    {
     "name": "stdout",
     "output_type": "stream",
     "text": [
      "[[5.1 3.5 1.4 0.2]\n",
      " [4.9 3.  1.4 0.2]\n",
      " [4.7 3.2 1.3 0.2]\n",
      " [4.6 3.1 1.5 0.2]\n",
      " [5.  3.6 1.4 0.2]\n",
      " [5.4 3.9 1.7 0.4]\n",
      " [4.6 3.4 1.4 0.3]\n",
      " [5.  3.4 1.5 0.2]\n",
      " [4.4 2.9 1.4 0.2]\n",
      " [4.9 3.1 1.5 0.1]\n",
      " [5.4 3.7 1.5 0.2]\n",
      " [4.8 3.4 1.6 0.2]\n",
      " [4.8 3.  1.4 0.1]\n",
      " [4.3 3.  1.1 0.1]\n",
      " [5.8 4.  1.2 0.2]\n",
      " [5.7 4.4 1.5 0.4]\n",
      " [5.4 3.9 1.3 0.4]\n",
      " [5.1 3.5 1.4 0.3]\n",
      " [5.7 3.8 1.7 0.3]\n",
      " [5.1 3.8 1.5 0.3]\n",
      " [5.4 3.4 1.7 0.2]\n",
      " [5.1 3.7 1.5 0.4]\n",
      " [4.6 3.6 1.  0.2]\n",
      " [5.1 3.3 1.7 0.5]\n",
      " [4.8 3.4 1.9 0.2]\n",
      " [5.  3.  1.6 0.2]\n",
      " [5.  3.4 1.6 0.4]\n",
      " [5.2 3.5 1.5 0.2]\n",
      " [5.2 3.4 1.4 0.2]\n",
      " [4.7 3.2 1.6 0.2]\n",
      " [4.8 3.1 1.6 0.2]\n",
      " [5.4 3.4 1.5 0.4]\n",
      " [5.2 4.1 1.5 0.1]\n",
      " [5.5 4.2 1.4 0.2]\n",
      " [4.9 3.1 1.5 0.2]\n",
      " [5.  3.2 1.2 0.2]\n",
      " [5.5 3.5 1.3 0.2]\n",
      " [4.9 3.6 1.4 0.1]\n",
      " [4.4 3.  1.3 0.2]\n",
      " [5.1 3.4 1.5 0.2]\n",
      " [5.  3.5 1.3 0.3]\n",
      " [4.5 2.3 1.3 0.3]\n",
      " [4.4 3.2 1.3 0.2]\n",
      " [5.  3.5 1.6 0.6]\n",
      " [5.1 3.8 1.9 0.4]\n",
      " [4.8 3.  1.4 0.3]\n",
      " [5.1 3.8 1.6 0.2]\n",
      " [4.6 3.2 1.4 0.2]\n",
      " [5.3 3.7 1.5 0.2]\n",
      " [5.  3.3 1.4 0.2]\n",
      " [7.  3.2 4.7 1.4]\n",
      " [6.4 3.2 4.5 1.5]\n",
      " [6.9 3.1 4.9 1.5]\n",
      " [5.5 2.3 4.  1.3]\n",
      " [6.5 2.8 4.6 1.5]\n",
      " [5.7 2.8 4.5 1.3]\n",
      " [6.3 3.3 4.7 1.6]\n",
      " [4.9 2.4 3.3 1. ]\n",
      " [6.6 2.9 4.6 1.3]\n",
      " [5.2 2.7 3.9 1.4]\n",
      " [5.  2.  3.5 1. ]\n",
      " [5.9 3.  4.2 1.5]\n",
      " [6.  2.2 4.  1. ]\n",
      " [6.1 2.9 4.7 1.4]\n",
      " [5.6 2.9 3.6 1.3]\n",
      " [6.7 3.1 4.4 1.4]\n",
      " [5.6 3.  4.5 1.5]\n",
      " [5.8 2.7 4.1 1. ]\n",
      " [6.2 2.2 4.5 1.5]\n",
      " [5.6 2.5 3.9 1.1]\n",
      " [5.9 3.2 4.8 1.8]\n",
      " [6.1 2.8 4.  1.3]\n",
      " [6.3 2.5 4.9 1.5]\n",
      " [6.1 2.8 4.7 1.2]\n",
      " [6.4 2.9 4.3 1.3]\n",
      " [6.6 3.  4.4 1.4]\n",
      " [6.8 2.8 4.8 1.4]\n",
      " [6.7 3.  5.  1.7]\n",
      " [6.  2.9 4.5 1.5]\n",
      " [5.7 2.6 3.5 1. ]\n",
      " [5.5 2.4 3.8 1.1]\n",
      " [5.5 2.4 3.7 1. ]\n",
      " [5.8 2.7 3.9 1.2]\n",
      " [6.  2.7 5.1 1.6]\n",
      " [5.4 3.  4.5 1.5]\n",
      " [6.  3.4 4.5 1.6]\n",
      " [6.7 3.1 4.7 1.5]\n",
      " [6.3 2.3 4.4 1.3]\n",
      " [5.6 3.  4.1 1.3]\n",
      " [5.5 2.5 4.  1.3]\n",
      " [5.5 2.6 4.4 1.2]\n",
      " [6.1 3.  4.6 1.4]\n",
      " [5.8 2.6 4.  1.2]\n",
      " [5.  2.3 3.3 1. ]\n",
      " [5.6 2.7 4.2 1.3]\n",
      " [5.7 3.  4.2 1.2]\n",
      " [5.7 2.9 4.2 1.3]\n",
      " [6.2 2.9 4.3 1.3]\n",
      " [5.1 2.5 3.  1.1]\n",
      " [5.7 2.8 4.1 1.3]\n",
      " [6.3 3.3 6.  2.5]\n",
      " [5.8 2.7 5.1 1.9]\n",
      " [7.1 3.  5.9 2.1]\n",
      " [6.3 2.9 5.6 1.8]\n",
      " [6.5 3.  5.8 2.2]\n",
      " [7.6 3.  6.6 2.1]\n",
      " [4.9 2.5 4.5 1.7]\n",
      " [7.3 2.9 6.3 1.8]\n",
      " [6.7 2.5 5.8 1.8]\n",
      " [7.2 3.6 6.1 2.5]\n",
      " [6.5 3.2 5.1 2. ]\n",
      " [6.4 2.7 5.3 1.9]\n",
      " [6.8 3.  5.5 2.1]\n",
      " [5.7 2.5 5.  2. ]\n",
      " [5.8 2.8 5.1 2.4]\n",
      " [6.4 3.2 5.3 2.3]\n",
      " [6.5 3.  5.5 1.8]\n",
      " [7.7 3.8 6.7 2.2]\n",
      " [7.7 2.6 6.9 2.3]\n",
      " [6.  2.2 5.  1.5]\n",
      " [6.9 3.2 5.7 2.3]\n",
      " [5.6 2.8 4.9 2. ]\n",
      " [7.7 2.8 6.7 2. ]\n",
      " [6.3 2.7 4.9 1.8]\n",
      " [6.7 3.3 5.7 2.1]\n",
      " [7.2 3.2 6.  1.8]\n",
      " [6.2 2.8 4.8 1.8]\n",
      " [6.1 3.  4.9 1.8]\n",
      " [6.4 2.8 5.6 2.1]\n",
      " [7.2 3.  5.8 1.6]\n",
      " [7.4 2.8 6.1 1.9]\n",
      " [7.9 3.8 6.4 2. ]\n",
      " [6.4 2.8 5.6 2.2]\n",
      " [6.3 2.8 5.1 1.5]\n",
      " [6.1 2.6 5.6 1.4]\n",
      " [7.7 3.  6.1 2.3]\n",
      " [6.3 3.4 5.6 2.4]\n",
      " [6.4 3.1 5.5 1.8]\n",
      " [6.  3.  4.8 1.8]\n",
      " [6.9 3.1 5.4 2.1]\n",
      " [6.7 3.1 5.6 2.4]\n",
      " [6.9 3.1 5.1 2.3]\n",
      " [5.8 2.7 5.1 1.9]\n",
      " [6.8 3.2 5.9 2.3]\n",
      " [6.7 3.3 5.7 2.5]\n",
      " [6.7 3.  5.2 2.3]\n",
      " [6.3 2.5 5.  1.9]\n",
      " [6.5 3.  5.2 2. ]\n",
      " [6.2 3.4 5.4 2.3]\n",
      " [5.9 3.  5.1 1.8]]\n"
     ]
    }
   ],
   "source": [
    "# sklearn.datasets.load_iris()\n",
    "from sklearn.datasets import load_iris\n",
    "\n",
    "iris = load_iris()\n",
    "print(iris.data[:,:])"
   ]
  },
  {
   "cell_type": "code",
   "execution_count": 6,
   "id": "cfee9be7",
   "metadata": {},
   "outputs": [
    {
     "data": {
      "image/png": "[encoded data removed]",
      "text/plain": [
       "<Figure size 576x144 with 1 Axes>"
      ]
     },
     "metadata": {},
     "output_type": "display_data"
    }
   ],
   "source": [
    "import matplotlib.pyplot as plt\n",
    "from sklearn.datasets import load_digits\n",
    "\n",
    "digits = load_digits()\n",
    "sampleNum = 10\n",
    "img = digits.images[sampleNum]\n",
    "\n",
    "plt.figure(figsize=(8,2))\n",
    "plt.imshow(img, interpolation='nearest', cmap=plt.cm.bone_r)\n",
    "plt.grid(False); plt.xticks([]); plt.yticks([])\n",
    "plt.title(\"image {}\".format(sampleNum + 1))\n",
    "plt.show()"
   ]
  },
  {
   "cell_type": "code",
   "execution_count": null,
   "id": "e00e0565",
   "metadata": {},
   "outputs": [],
   "source": []
  }
 ],
 "metadata": {
  "kernelspec": {
   "display_name": "Python 3",
   "language": "python",
   "name": "python3"
  },
  "language_info": {
   "codemirror_mode": {
    "name": "ipython",
    "version": 3
   },
   "file_extension": ".py",
   "mimetype": "text/x-python",
   "name": "python",
   "nbconvert_exporter": "python",
   "pygments_lexer": "ipython3",
   "version": "3.6.13"
  }
 },
 "nbformat": 4,
 "nbformat_minor": 5
}
